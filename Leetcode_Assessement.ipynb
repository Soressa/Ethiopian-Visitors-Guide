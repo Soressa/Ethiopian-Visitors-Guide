{
  "nbformat": 4,
  "nbformat_minor": 0,
  "metadata": {
    "colab": {
      "name": "Leetcode Assessement.ipynb",
      "provenance": [],
      "authorship_tag": "ABX9TyN4XCjlH2xhF6Wt2qLQe3U5",
      "include_colab_link": true
    },
    "kernelspec": {
      "name": "python3",
      "display_name": "Python 3"
    },
    "language_info": {
      "name": "python"
    }
  },
  "cells": [
    {
      "cell_type": "markdown",
      "metadata": {
        "id": "view-in-github",
        "colab_type": "text"
      },
      "source": [
        "<a href=\"https://colab.research.google.com/github/Soressa/Ethiopian-Visitors-Guide/blob/main/Leetcode_Assessement.ipynb\" target=\"_parent\"><img src=\"https://colab.research.google.com/assets/colab-badge.svg\" alt=\"Open In Colab\"/></a>"
      ]
    },
    {
      "cell_type": "markdown",
      "source": [
        "# **Constraints:**\n",
        "\n",
        "The number of nodes in both lists is in the range [0, 50].\n",
        "-100 <= Node.val <= 100\n",
        "# **Both list1 and list2 are sorted in non-decreasing order.**"
      ],
      "metadata": {
        "id": "OdZDLiXc1ROW"
      }
    },
    {
      "cell_type": "code",
      "source": [
        "input: list1 = []"
      ],
      "metadata": {
        "id": "dp4bz9YdCSRu"
      },
      "execution_count": null,
      "outputs": []
    },
    {
      "cell_type": "code",
      "source": [
        "Input: list1 = [1,2,4], list2 = [1,3,4]\n",
        "class Solution:\n",
        "\tdef mergeTwoLists(self, list1: Optional[ListNode], list2: Optional[ListNode]) -> Optional[ListNode]:\n",
        "\t\ttest = ListNode()\n",
        "\t\tnew_list = test\n",
        "\t\twhile list1 and list2:\n",
        "\t\t\tif list1.val <= list2.val:\n",
        "\t\t\t\tnew_list.next = list1\n",
        "\t\t\t\tlist1 = list1.next\n",
        "\t\t\telse:\n",
        "\t\t\t\tnew_list.next = list2\n",
        "\t\t\t\tlist2 = list2.next\n",
        "\t\t\tnew_list = new_list.next\n",
        "\t\tif list1:\n",
        "\t\t\tnew_list.next = list1\n",
        "\t\telif list2:\n",
        "\t\t\tnew_list.next = list2\n",
        "\t\treturn test.next\n"
      ],
      "metadata": {
        "colab": {
          "base_uri": "https://localhost:8080/",
          "height": 131
        },
        "id": "cEHPiH63AKEL",
        "outputId": "58da8c58-5d9c-4eae-f7ae-3649dde40c20"
      },
      "execution_count": 8,
      "outputs": [
        {
          "output_type": "error",
          "ename": "SyntaxError",
          "evalue": "ignored",
          "traceback": [
            "\u001b[0;36m  File \u001b[0;32m\"<ipython-input-8-249bff9d5e6b>\"\u001b[0;36m, line \u001b[0;32m1\u001b[0m\n\u001b[0;31m    Input: list1 = [1,2,4], list2 = [1,3,4]\u001b[0m\n\u001b[0m                          ^\u001b[0m\n\u001b[0;31mSyntaxError\u001b[0m\u001b[0;31m:\u001b[0m invalid syntax\n"
          ]
        }
      ]
    }
  ]
}